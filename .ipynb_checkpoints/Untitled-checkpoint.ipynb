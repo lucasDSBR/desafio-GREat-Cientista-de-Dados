{
 "cells": [
  {
   "cell_type": "code",
   "execution_count": 13,
   "id": "9d048cb4",
   "metadata": {},
   "outputs": [],
   "source": [
    "import pandas as pd\n",
    "import matplotlib.pyplot as plt"
   ]
  },
  {
   "cell_type": "code",
   "execution_count": 18,
   "id": "985e9f56",
   "metadata": {},
   "outputs": [],
   "source": [
    "base = pd.read_csv('./data/Use_Of_Force.csv')\n",
    "base['Occured_date_time'] = pd.to_datetime(base['Occured_date_time'])"
   ]
  },
  {
   "cell_type": "code",
   "execution_count": 15,
   "id": "8b84a64f",
   "metadata": {},
   "outputs": [],
   "source": [
    "base['Year'] = base['Occured_date_time'].dt.year\n",
    "base['Month'] = base['Occured_date_time'].dt.month\n",
    "base['Day'] = base['Occured_date_time'].dt.day"
   ]
  },
  {
   "cell_type": "code",
   "execution_count": 16,
   "id": "c9d27fc4",
   "metadata": {
    "scrolled": true
   },
   "outputs": [
    {
     "data": {
      "text/plain": [
       "<AxesSubplot:xlabel='Year'>"
      ]
     },
     "execution_count": 16,
     "metadata": {},
     "output_type": "execute_result"
    },
    {
     "data": {
      "image/png": "[encoded data removed]",
      "text/plain": [
       "<Figure size 432x288 with 1 Axes>"
      ]
     },
     "metadata": {
      "needs_background": "light"
     },
     "output_type": "display_data"
    }
   ],
   "source": [
    "agrupado = base.groupby(['Year'])['Incident_Num'].sum()\n",
    "agrupado\n",
    "\n",
    "#Grafico de barras\n",
    "agrupado.plot.bar(color = 'gray')"
   ]
  },
  {
   "cell_type": "code",
   "execution_count": 19,
   "id": "90804ca9",
   "metadata": {},
   "outputs": [],
   "source": [
    "baseForDate = base.drop([\"Incident_Type\", \"Occured_date_time\", \"Precinct\", \"Sector\"\n",
    "                        , \"Beat\", \"Officer_ID\", \"Subject_ID\", \"Subject_ID\", \"Subject_Race\", \"Subject_Gender\"], axis=1, inplace=True)\n",
    "baseForDate"
   ]
  },
  {
   "cell_type": "code",
   "execution_count": null,
   "id": "43bc9c1e",
   "metadata": {},
   "outputs": [],
   "source": []
  },
  {
   "cell_type": "code",
   "execution_count": null,
   "id": "d52de732",
   "metadata": {},
   "outputs": [],
   "source": []
  }
 ],
 "metadata": {
  "kernelspec": {
   "display_name": "Python 3 (ipykernel)",
   "language": "python",
   "name": "python3"
  },
  "language_info": {
   "codemirror_mode": {
    "name": "ipython",
    "version": 3
   },
   "file_extension": ".py",
   "mimetype": "text/x-python",
   "name": "python",
   "nbconvert_exporter": "python",
   "pygments_lexer": "ipython3",
   "version": "3.9.6"
  }
 },
 "nbformat": 4,
 "nbformat_minor": 5
}
